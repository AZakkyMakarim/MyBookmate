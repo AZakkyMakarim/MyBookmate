{
 "cells": [
  {
   "attachments": {},
   "cell_type": "markdown",
   "metadata": {},
   "source": [
    "## Importing libraries"
   ]
  },
  {
   "cell_type": "code",
   "execution_count": 1,
   "metadata": {},
   "outputs": [],
   "source": [
    "import numpy as np\n",
    "import pandas as pd\n",
    "import matplotlib.pyplot as plt\n",
    "import seaborn as sns\n",
    "import os\n",
    "import warnings\n",
    "\n",
    "warnings.filterwarnings('ignore')\n",
    "\n",
    "sns.set()"
   ]
  },
  {
   "attachments": {},
   "cell_type": "markdown",
   "metadata": {},
   "source": [
    "## Data preprocessing"
   ]
  },
  {
   "cell_type": "code",
   "execution_count": 2,
   "metadata": {},
   "outputs": [],
   "source": [
    "books = pd.read_csv('data_buku_indo2.csv')\n",
    "\n",
    "ratings = pd.read_csv('ratings.csv')"
   ]
  },
  {
   "cell_type": "code",
   "execution_count": 3,
   "metadata": {
    "scrolled": false
   },
   "outputs": [
    {
     "data": {
      "text/plain": [
       "Index(['Unnamed: 0', 'Judul', 'Penulis', 'No. ISBN', 'Penerbit',\n",
       "       'Tanggal terbit', 'Kategori', 'Description', 'img_small_link',\n",
       "       'img_large_link'],\n",
       "      dtype='object')"
      ]
     },
     "execution_count": 3,
     "metadata": {},
     "output_type": "execute_result"
    }
   ],
   "source": [
    "books.columns"
   ]
  },
  {
   "cell_type": "code",
   "execution_count": 4,
   "metadata": {},
   "outputs": [
    {
     "data": {
      "text/html": [
       "<div>\n",
       "<style scoped>\n",
       "    .dataframe tbody tr th:only-of-type {\n",
       "        vertical-align: middle;\n",
       "    }\n",
       "\n",
       "    .dataframe tbody tr th {\n",
       "        vertical-align: top;\n",
       "    }\n",
       "\n",
       "    .dataframe thead th {\n",
       "        text-align: right;\n",
       "    }\n",
       "</style>\n",
       "<table border=\"1\" class=\"dataframe\">\n",
       "  <thead>\n",
       "    <tr style=\"text-align: right;\">\n",
       "      <th></th>\n",
       "      <th>Judul</th>\n",
       "      <th>No. ISBN</th>\n",
       "      <th>Penulis</th>\n",
       "      <th>Penerbit</th>\n",
       "      <th>Tanggal terbit</th>\n",
       "      <th>Kategori</th>\n",
       "      <th>Description</th>\n",
       "      <th>img_small_link</th>\n",
       "      <th>img_large_link</th>\n",
       "    </tr>\n",
       "  </thead>\n",
       "  <tbody>\n",
       "    <tr>\n",
       "      <th>0</th>\n",
       "      <td>PROPERTI KO.MO.DO ( PIPO Hargiyanto )</td>\n",
       "      <td>9786235824130</td>\n",
       "      <td>PIPO HARGIYANTO</td>\n",
       "      <td>Bukukita.com</td>\n",
       "      <td>November - 2022</td>\n",
       "      <td>Motivasi</td>\n",
       "      <td>Properti KO.MO.DO yang ditulis langsung oleh P...</td>\n",
       "      <td>Properti KO.MO.DO yang ditulis langsung oleh P...</td>\n",
       "      <td>https://www.bukukita.com/babacms/displaybuku/1...</td>\n",
       "    </tr>\n",
       "    <tr>\n",
       "      <th>1</th>\n",
       "      <td>Adabud Dunya Wad Din</td>\n",
       "      <td>978627163398</td>\n",
       "      <td>Imam al-Mawardi</td>\n",
       "      <td>Alifia Books</td>\n",
       "      <td>September - 2020</td>\n",
       "      <td>Islam</td>\n",
       "      <td>Etika (akhlak, adab) adalah mahkota dan perhia...</td>\n",
       "      <td>Etika (akhlak, adab) adalah mahkota dan perhia...</td>\n",
       "      <td>https://www.bukukita.com/babacms/displaybuku/1...</td>\n",
       "    </tr>\n",
       "    <tr>\n",
       "      <th>2</th>\n",
       "      <td>AL-QUR'AN  &amp; MAKNANYA</td>\n",
       "      <td>9786237713272</td>\n",
       "      <td>M. Quraish Shihab</td>\n",
       "      <td>Lentera Hati</td>\n",
       "      <td>September - 2021</td>\n",
       "      <td>Al-Quran</td>\n",
       "      <td>Dilengkapi :&gt;&gt; Asbabun Nuzul&gt;&gt; Makna dan Tujua...</td>\n",
       "      <td>Dilengkapi :&gt;&gt; Asbabun Nuzul&gt;&gt; Makna dan Tujua...</td>\n",
       "      <td>https://www.bukukita.com/babacms/displaybuku/1...</td>\n",
       "    </tr>\n",
       "    <tr>\n",
       "      <th>3</th>\n",
       "      <td>Baca Buku Ini Saat Engkau Ingin Berubah</td>\n",
       "      <td>9786232441118</td>\n",
       "      <td>Rahma Kusharjanti</td>\n",
       "      <td>Psikologi Corner</td>\n",
       "      <td>Juli - 2020</td>\n",
       "      <td>Pengembangan Diri</td>\n",
       "      <td>Apakah kamu suka \"motor\"?Apakah kamu langganan...</td>\n",
       "      <td>Apakah kamu suka \"motor\"?Apakah kamu langganan...</td>\n",
       "      <td>https://www.bukukita.com/babacms/displaybuku/1...</td>\n",
       "    </tr>\n",
       "    <tr>\n",
       "      <th>4</th>\n",
       "      <td>Banjir Besar Zaman Nabi Nuh ( Riwayat dalam Al...</td>\n",
       "      <td>9786232201439</td>\n",
       "      <td>MANSUR ABDUL HAKIM</td>\n",
       "      <td>Alvabet</td>\n",
       "      <td>Februari - 2023</td>\n",
       "      <td>Sejarah Agama</td>\n",
       "      <td>Kisah Air bah besar pertama pada zaman kuno te...</td>\n",
       "      <td>Kisah Air bah besar pertama pada zaman kuno te...</td>\n",
       "      <td>https://www.bukukita.com/babacms/displaybuku/1...</td>\n",
       "    </tr>\n",
       "  </tbody>\n",
       "</table>\n",
       "</div>"
      ],
      "text/plain": [
       "                                               Judul       No. ISBN  \\\n",
       "0              PROPERTI KO.MO.DO ( PIPO Hargiyanto )  9786235824130   \n",
       "1                               Adabud Dunya Wad Din   978627163398   \n",
       "2                              AL-QUR'AN  & MAKNANYA  9786237713272   \n",
       "3            Baca Buku Ini Saat Engkau Ingin Berubah  9786232441118   \n",
       "4  Banjir Besar Zaman Nabi Nuh ( Riwayat dalam Al...  9786232201439   \n",
       "\n",
       "              Penulis          Penerbit    Tanggal terbit           Kategori  \\\n",
       "0     PIPO HARGIYANTO      Bukukita.com   November - 2022           Motivasi   \n",
       "1     Imam al-Mawardi      Alifia Books  September - 2020              Islam   \n",
       "2   M. Quraish Shihab      Lentera Hati  September - 2021           Al-Quran   \n",
       "3   Rahma Kusharjanti  Psikologi Corner       Juli - 2020  Pengembangan Diri   \n",
       "4  MANSUR ABDUL HAKIM           Alvabet   Februari - 2023      Sejarah Agama   \n",
       "\n",
       "                                         Description  \\\n",
       "0  Properti KO.MO.DO yang ditulis langsung oleh P...   \n",
       "1  Etika (akhlak, adab) adalah mahkota dan perhia...   \n",
       "2  Dilengkapi :>> Asbabun Nuzul>> Makna dan Tujua...   \n",
       "3  Apakah kamu suka \"motor\"?Apakah kamu langganan...   \n",
       "4  Kisah Air bah besar pertama pada zaman kuno te...   \n",
       "\n",
       "                                      img_small_link  \\\n",
       "0  Properti KO.MO.DO yang ditulis langsung oleh P...   \n",
       "1  Etika (akhlak, adab) adalah mahkota dan perhia...   \n",
       "2  Dilengkapi :>> Asbabun Nuzul>> Makna dan Tujua...   \n",
       "3  Apakah kamu suka \"motor\"?Apakah kamu langganan...   \n",
       "4  Kisah Air bah besar pertama pada zaman kuno te...   \n",
       "\n",
       "                                      img_large_link  \n",
       "0  https://www.bukukita.com/babacms/displaybuku/1...  \n",
       "1  https://www.bukukita.com/babacms/displaybuku/1...  \n",
       "2  https://www.bukukita.com/babacms/displaybuku/1...  \n",
       "3  https://www.bukukita.com/babacms/displaybuku/1...  \n",
       "4  https://www.bukukita.com/babacms/displaybuku/1...  "
      ]
     },
     "execution_count": 4,
     "metadata": {},
     "output_type": "execute_result"
    }
   ],
   "source": [
    "columns = ['Judul','No. ISBN', 'Penulis', 'Penerbit','Tanggal terbit', 'Kategori', 'Description', 'img_small_link', 'img_large_link']\n",
    "\n",
    "books_new = books[columns]\n",
    "\n",
    "books_new.head()"
   ]
  },
  {
   "cell_type": "code",
   "execution_count": 10,
   "metadata": {
    "scrolled": true
   },
   "outputs": [
    {
     "data": {
      "text/html": [
       "<div>\n",
       "<style scoped>\n",
       "    .dataframe tbody tr th:only-of-type {\n",
       "        vertical-align: middle;\n",
       "    }\n",
       "\n",
       "    .dataframe tbody tr th {\n",
       "        vertical-align: top;\n",
       "    }\n",
       "\n",
       "    .dataframe thead th {\n",
       "        text-align: right;\n",
       "    }\n",
       "</style>\n",
       "<table border=\"1\" class=\"dataframe\">\n",
       "  <thead>\n",
       "    <tr style=\"text-align: right;\">\n",
       "      <th></th>\n",
       "      <th>ISBN</th>\n",
       "      <th>Book-Author</th>\n",
       "      <th>Year-Of-Publication</th>\n",
       "      <th>Book-Title</th>\n",
       "      <th>Image-URL-S</th>\n",
       "    </tr>\n",
       "  </thead>\n",
       "  <tbody>\n",
       "    <tr>\n",
       "      <th>0</th>\n",
       "      <td>0195153448</td>\n",
       "      <td>Mark P. O. Morford</td>\n",
       "      <td>2002</td>\n",
       "      <td>Classical Mythology</td>\n",
       "      <td>http://images.amazon.com/images/P/0195153448.0...</td>\n",
       "    </tr>\n",
       "    <tr>\n",
       "      <th>1</th>\n",
       "      <td>0002005018</td>\n",
       "      <td>Richard Bruce Wright</td>\n",
       "      <td>2001</td>\n",
       "      <td>Clara Callan</td>\n",
       "      <td>http://images.amazon.com/images/P/0002005018.0...</td>\n",
       "    </tr>\n",
       "    <tr>\n",
       "      <th>2</th>\n",
       "      <td>0060973129</td>\n",
       "      <td>Carlo D'Este</td>\n",
       "      <td>1991</td>\n",
       "      <td>Decision in Normandy</td>\n",
       "      <td>http://images.amazon.com/images/P/0060973129.0...</td>\n",
       "    </tr>\n",
       "    <tr>\n",
       "      <th>3</th>\n",
       "      <td>0374157065</td>\n",
       "      <td>Gina Bari Kolata</td>\n",
       "      <td>1999</td>\n",
       "      <td>Flu: The Story of the Great Influenza Pandemic...</td>\n",
       "      <td>http://images.amazon.com/images/P/0374157065.0...</td>\n",
       "    </tr>\n",
       "    <tr>\n",
       "      <th>4</th>\n",
       "      <td>0393045218</td>\n",
       "      <td>E. J. W. Barber</td>\n",
       "      <td>1999</td>\n",
       "      <td>The Mummies of Urumchi</td>\n",
       "      <td>http://images.amazon.com/images/P/0393045218.0...</td>\n",
       "    </tr>\n",
       "  </tbody>\n",
       "</table>\n",
       "</div>"
      ],
      "text/plain": [
       "         ISBN           Book-Author Year-Of-Publication  \\\n",
       "0  0195153448    Mark P. O. Morford                2002   \n",
       "1  0002005018  Richard Bruce Wright                2001   \n",
       "2  0060973129          Carlo D'Este                1991   \n",
       "3  0374157065      Gina Bari Kolata                1999   \n",
       "4  0393045218       E. J. W. Barber                1999   \n",
       "\n",
       "                                          Book-Title  \\\n",
       "0                                Classical Mythology   \n",
       "1                                       Clara Callan   \n",
       "2                               Decision in Normandy   \n",
       "3  Flu: The Story of the Great Influenza Pandemic...   \n",
       "4                             The Mummies of Urumchi   \n",
       "\n",
       "                                         Image-URL-S  \n",
       "0  http://images.amazon.com/images/P/0195153448.0...  \n",
       "1  http://images.amazon.com/images/P/0002005018.0...  \n",
       "2  http://images.amazon.com/images/P/0060973129.0...  \n",
       "3  http://images.amazon.com/images/P/0374157065.0...  \n",
       "4  http://images.amazon.com/images/P/0393045218.0...  "
      ]
     },
     "execution_count": 10,
     "metadata": {},
     "output_type": "execute_result"
    }
   ],
   "source": [
    "columns = ['ISBN', 'Book-Author', 'Year-Of-Publication', 'Book-Title', 'Image-URL-S']\n",
    "\n",
    "books_new = books[columns]\n",
    "\n",
    "books_new.head()"
   ]
  },
  {
   "cell_type": "code",
   "execution_count": 5,
   "metadata": {},
   "outputs": [
    {
     "name": "stdout",
     "output_type": "stream",
     "text": [
      "<class 'pandas.core.frame.DataFrame'>\n",
      "RangeIndex: 2311 entries, 0 to 2310\n",
      "Data columns (total 9 columns):\n",
      " #   Column          Non-Null Count  Dtype \n",
      "---  ------          --------------  ----- \n",
      " 0   Judul           2311 non-null   object\n",
      " 1   No. ISBN        2311 non-null   object\n",
      " 2   Penulis         2311 non-null   object\n",
      " 3   Penerbit        2311 non-null   object\n",
      " 4   Tanggal terbit  2311 non-null   object\n",
      " 5   Kategori        2311 non-null   object\n",
      " 6   Description     2270 non-null   object\n",
      " 7   img_small_link  2270 non-null   object\n",
      " 8   img_large_link  2311 non-null   object\n",
      "dtypes: object(9)\n",
      "memory usage: 162.6+ KB\n"
     ]
    }
   ],
   "source": [
    "books_new.info()"
   ]
  },
  {
   "attachments": {},
   "cell_type": "markdown",
   "metadata": {},
   "source": [
    "### Checking null values"
   ]
  },
  {
   "attachments": {},
   "cell_type": "markdown",
   "metadata": {},
   "source": [
    "#### For books"
   ]
  },
  {
   "cell_type": "code",
   "execution_count": 6,
   "metadata": {
    "scrolled": true
   },
   "outputs": [
    {
     "data": {
      "text/plain": [
       "Judul              0\n",
       "No. ISBN           0\n",
       "Penulis            0\n",
       "Penerbit           0\n",
       "Tanggal terbit     0\n",
       "Kategori           0\n",
       "Description       41\n",
       "img_small_link    41\n",
       "img_large_link     0\n",
       "dtype: int64"
      ]
     },
     "execution_count": 6,
     "metadata": {},
     "output_type": "execute_result"
    }
   ],
   "source": [
    "books_new.isna().sum()"
   ]
  },
  {
   "cell_type": "code",
   "execution_count": 7,
   "metadata": {},
   "outputs": [
    {
     "name": "stdout",
     "output_type": "stream",
     "text": [
      "<class 'pandas.core.frame.DataFrame'>\n",
      "RangeIndex: 2345 entries, 0 to 2344\n",
      "Data columns (total 7 columns):\n",
      " #   Column          Non-Null Count  Dtype \n",
      "---  ------          --------------  ----- \n",
      " 0   Judul           2345 non-null   object\n",
      " 1   No. ISBN        2345 non-null   object\n",
      " 2   Penulis         2345 non-null   object\n",
      " 3   Penerbit        2345 non-null   object\n",
      " 4   Tanggal terbit  2345 non-null   object\n",
      " 5   Kategori        2345 non-null   object\n",
      " 6   Description     2345 non-null   object\n",
      "dtypes: object(7)\n",
      "memory usage: 128.4+ KB\n"
     ]
    }
   ],
   "source": [
    "books_new = books_new.fillna('NA')\n",
    "books_new.info()"
   ]
  },
  {
   "attachments": {},
   "cell_type": "markdown",
   "metadata": {},
   "source": [
    "This dataset will be used for recommending the books to customers."
   ]
  },
  {
   "attachments": {},
   "cell_type": "markdown",
   "metadata": {},
   "source": [
    "#### For ratings"
   ]
  },
  {
   "cell_type": "code",
   "execution_count": 8,
   "metadata": {
    "scrolled": true
   },
   "outputs": [
    {
     "data": {
      "text/plain": [
       "User-ID        0\n",
       "ISBN           0\n",
       "Book-Rating    0\n",
       "dtype: int64"
      ]
     },
     "execution_count": 8,
     "metadata": {},
     "output_type": "execute_result"
    }
   ],
   "source": [
    "ratings.isna().sum()"
   ]
  },
  {
   "attachments": {},
   "cell_type": "markdown",
   "metadata": {},
   "source": [
    "There is no null value here."
   ]
  },
  {
   "cell_type": "code",
   "execution_count": 15,
   "metadata": {},
   "outputs": [],
   "source": [
    "books_new.to_csv('books_cleaned_fix.csv')"
   ]
  },
  {
   "cell_type": "code",
   "execution_count": 16,
   "metadata": {},
   "outputs": [
    {
     "data": {
      "text/html": [
       "<div>\n",
       "<style scoped>\n",
       "    .dataframe tbody tr th:only-of-type {\n",
       "        vertical-align: middle;\n",
       "    }\n",
       "\n",
       "    .dataframe tbody tr th {\n",
       "        vertical-align: top;\n",
       "    }\n",
       "\n",
       "    .dataframe thead th {\n",
       "        text-align: right;\n",
       "    }\n",
       "</style>\n",
       "<table border=\"1\" class=\"dataframe\">\n",
       "  <thead>\n",
       "    <tr style=\"text-align: right;\">\n",
       "      <th></th>\n",
       "      <th>User-ID</th>\n",
       "      <th>ISBN</th>\n",
       "      <th>Book-Rating</th>\n",
       "    </tr>\n",
       "  </thead>\n",
       "  <tbody>\n",
       "    <tr>\n",
       "      <th>0</th>\n",
       "      <td>276725</td>\n",
       "      <td>034545104X</td>\n",
       "      <td>0</td>\n",
       "    </tr>\n",
       "    <tr>\n",
       "      <th>1</th>\n",
       "      <td>276726</td>\n",
       "      <td>0155061224</td>\n",
       "      <td>5</td>\n",
       "    </tr>\n",
       "    <tr>\n",
       "      <th>2</th>\n",
       "      <td>276727</td>\n",
       "      <td>0446520802</td>\n",
       "      <td>0</td>\n",
       "    </tr>\n",
       "    <tr>\n",
       "      <th>3</th>\n",
       "      <td>276729</td>\n",
       "      <td>052165615X</td>\n",
       "      <td>3</td>\n",
       "    </tr>\n",
       "    <tr>\n",
       "      <th>4</th>\n",
       "      <td>276729</td>\n",
       "      <td>0521795028</td>\n",
       "      <td>6</td>\n",
       "    </tr>\n",
       "    <tr>\n",
       "      <th>...</th>\n",
       "      <td>...</td>\n",
       "      <td>...</td>\n",
       "      <td>...</td>\n",
       "    </tr>\n",
       "    <tr>\n",
       "      <th>1149775</th>\n",
       "      <td>276704</td>\n",
       "      <td>1563526298</td>\n",
       "      <td>9</td>\n",
       "    </tr>\n",
       "    <tr>\n",
       "      <th>1149776</th>\n",
       "      <td>276706</td>\n",
       "      <td>0679447156</td>\n",
       "      <td>0</td>\n",
       "    </tr>\n",
       "    <tr>\n",
       "      <th>1149777</th>\n",
       "      <td>276709</td>\n",
       "      <td>0515107662</td>\n",
       "      <td>10</td>\n",
       "    </tr>\n",
       "    <tr>\n",
       "      <th>1149778</th>\n",
       "      <td>276721</td>\n",
       "      <td>0590442449</td>\n",
       "      <td>10</td>\n",
       "    </tr>\n",
       "    <tr>\n",
       "      <th>1149779</th>\n",
       "      <td>276723</td>\n",
       "      <td>05162443314</td>\n",
       "      <td>8</td>\n",
       "    </tr>\n",
       "  </tbody>\n",
       "</table>\n",
       "<p>1149780 rows × 3 columns</p>\n",
       "</div>"
      ],
      "text/plain": [
       "         User-ID         ISBN  Book-Rating\n",
       "0         276725   034545104X            0\n",
       "1         276726   0155061224            5\n",
       "2         276727   0446520802            0\n",
       "3         276729   052165615X            3\n",
       "4         276729   0521795028            6\n",
       "...          ...          ...          ...\n",
       "1149775   276704   1563526298            9\n",
       "1149776   276706   0679447156            0\n",
       "1149777   276709   0515107662           10\n",
       "1149778   276721   0590442449           10\n",
       "1149779   276723  05162443314            8\n",
       "\n",
       "[1149780 rows x 3 columns]"
      ]
     },
     "execution_count": 16,
     "metadata": {},
     "output_type": "execute_result"
    }
   ],
   "source": [
    "ratings\n"
   ]
  },
  {
   "cell_type": "code",
   "execution_count": 39,
   "metadata": {},
   "outputs": [
    {
     "data": {
      "text/plain": [
       "0           0\n",
       "1           5\n",
       "2           0\n",
       "3           3\n",
       "4           6\n",
       "           ..\n",
       "1149775     9\n",
       "1149776     0\n",
       "1149777    10\n",
       "1149778    10\n",
       "1149779     8\n",
       "Name: Book-Rating, Length: 1149780, dtype: int64"
      ]
     },
     "execution_count": 39,
     "metadata": {},
     "output_type": "execute_result"
    }
   ],
   "source": [
    "buka = ratings['Book-Rating']\n",
    "buka"
   ]
  },
  {
   "cell_type": "code",
   "execution_count": 20,
   "metadata": {},
   "outputs": [
    {
     "data": {
      "text/plain": [
       "Index(['User-ID', 'ISBN', 'Book-Rating'], dtype='object')"
      ]
     },
     "execution_count": 20,
     "metadata": {},
     "output_type": "execute_result"
    }
   ],
   "source": [
    "ratings.columns"
   ]
  },
  {
   "cell_type": "code",
   "execution_count": 53,
   "metadata": {},
   "outputs": [],
   "source": [
    "column = ['ISBN']\n",
    "jumlah_buka = ratings[column]\n",
    "jumlah_buka = jumlah_buka.assign(User_ID=ratings['User-ID'],Jumlah_Buku_Dibuka=ratings['Book-Rating'])"
   ]
  },
  {
   "cell_type": "code",
   "execution_count": 54,
   "metadata": {},
   "outputs": [],
   "source": [
    "jumlah_buka.to_csv('Jumlah_buku_dibuka.csv')"
   ]
  },
  {
   "cell_type": "code",
   "execution_count": null,
   "metadata": {},
   "outputs": [],
   "source": []
  }
 ],
 "metadata": {
  "kernelspec": {
   "display_name": "Python 3",
   "language": "python",
   "name": "python3"
  },
  "language_info": {
   "codemirror_mode": {
    "name": "ipython",
    "version": 3
   },
   "file_extension": ".py",
   "mimetype": "text/x-python",
   "name": "python",
   "nbconvert_exporter": "python",
   "pygments_lexer": "ipython3",
   "version": "3.10.6"
  }
 },
 "nbformat": 4,
 "nbformat_minor": 4
}
